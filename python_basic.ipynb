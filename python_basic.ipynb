{
 "cells": [
  {
   "cell_type": "markdown",
   "id": "4a7ca89b",
   "metadata": {},
   "source": [
    "# Introduction"
   ]
  },
  {
   "cell_type": "code",
   "execution_count": 1,
   "id": "b88054bf",
   "metadata": {},
   "outputs": [
    {
     "name": "stdout",
     "output_type": "stream",
     "text": [
      "hello world\n"
     ]
    }
   ],
   "source": [
    "print(\"hello world\")"
   ]
  },
  {
   "cell_type": "code",
   "execution_count": 2,
   "id": "2d539d1d",
   "metadata": {},
   "outputs": [
    {
     "name": "stdout",
     "output_type": "stream",
     "text": [
      "4\n",
      "8\n"
     ]
    }
   ],
   "source": [
    "print(2+2)\n",
    "print(4+4)"
   ]
  },
  {
   "cell_type": "code",
   "execution_count": 3,
   "id": "832e572a",
   "metadata": {},
   "outputs": [
    {
     "name": "stdout",
     "output_type": "stream",
     "text": [
      "hello world\n"
     ]
    }
   ],
   "source": [
    "print(\"hello \" + \"world\")"
   ]
  },
  {
   "cell_type": "code",
   "execution_count": 4,
   "id": "4dbed79d",
   "metadata": {},
   "outputs": [
    {
     "name": "stdout",
     "output_type": "stream",
     "text": [
      "hello world 4 this is python\n",
      "hello world4this is python\n"
     ]
    }
   ],
   "source": [
    "print(\"hello world\", 2+2, \"this is python\")\n",
    "print(\"hello world\", 2+2, \"this is python\", sep=\"\")"
   ]
  },
  {
   "cell_type": "code",
   "execution_count": 5,
   "id": "6cb0f247",
   "metadata": {},
   "outputs": [
    {
     "ename": "TypeError",
     "evalue": "can only concatenate str (not \"int\") to str",
     "output_type": "error",
     "traceback": [
      "\u001b[0;31m---------------------------------------------------------------------------\u001b[0m",
      "\u001b[0;31mTypeError\u001b[0m                                 Traceback (most recent call last)",
      "Cell \u001b[0;32mIn[5], line 1\u001b[0m\n\u001b[0;32m----> 1\u001b[0m \u001b[38;5;28mprint\u001b[39m(\u001b[38;5;124m\"\u001b[39m\u001b[38;5;124mhello\u001b[39m\u001b[38;5;124m\"\u001b[39m \u001b[38;5;241m+\u001b[39m \u001b[38;5;241m5\u001b[39m)\n",
      "\u001b[0;31mTypeError\u001b[0m: can only concatenate str (not \"int\") to str"
     ]
    }
   ],
   "source": [
    "print(\"hello\" + 5)"
   ]
  },
  {
   "cell_type": "markdown",
   "id": "ed479cd8",
   "metadata": {},
   "source": [
    "# Variables"
   ]
  },
  {
   "cell_type": "code",
   "execution_count": 6,
   "id": "95f0cdf9",
   "metadata": {},
   "outputs": [
    {
     "name": "stdout",
     "output_type": "stream",
     "text": [
      "Price of mobile is: $900\n"
     ]
    }
   ],
   "source": [
    "# mobile store\n",
    "price = 900\n",
    "print(\"Price of mobile is: $\", price, sep=\"\")"
   ]
  },
  {
   "cell_type": "code",
   "execution_count": 7,
   "id": "0270c9be",
   "metadata": {},
   "outputs": [
    {
     "name": "stdout",
     "output_type": "stream",
     "text": [
      "Brand of the mobile is: Apple\n"
     ]
    }
   ],
   "source": [
    "brand = \"Apple\"\n",
    "print(\"Brand of the mobile is:\", brand)"
   ]
  },
  {
   "cell_type": "code",
   "execution_count": 8,
   "id": "5cfed2cb",
   "metadata": {},
   "outputs": [
    {
     "name": "stdout",
     "output_type": "stream",
     "text": [
      "RAM of the mobile is: 4GB\n"
     ]
    }
   ],
   "source": [
    "ram = 4\n",
    "print(\"RAM of the mobile is: \", ram, \"GB\", sep=\"\")"
   ]
  },
  {
   "cell_type": "code",
   "execution_count": 9,
   "id": "b1fa71eb",
   "metadata": {},
   "outputs": [
    {
     "name": "stdout",
     "output_type": "stream",
     "text": [
      "Storage of the mobile is: 128GB\n"
     ]
    }
   ],
   "source": [
    "storage = 128\n",
    "print(\"Storage of the mobile is: \", storage, \"GB\", sep=\"\")"
   ]
  },
  {
   "cell_type": "code",
   "execution_count": 10,
   "id": "c02190c6",
   "metadata": {},
   "outputs": [
    {
     "name": "stdout",
     "output_type": "stream",
     "text": [
      "True\n"
     ]
    }
   ],
   "source": [
    "is_billed = True\n",
    "print(is_billed)"
   ]
  },
  {
   "cell_type": "code",
   "execution_count": 11,
   "id": "3f9f039b",
   "metadata": {},
   "outputs": [
    {
     "data": {
      "text/plain": [
       "int"
      ]
     },
     "execution_count": 11,
     "metadata": {},
     "output_type": "execute_result"
    }
   ],
   "source": [
    "type(price)"
   ]
  },
  {
   "cell_type": "code",
   "execution_count": 12,
   "id": "b7dc8a7b",
   "metadata": {},
   "outputs": [
    {
     "data": {
      "text/plain": [
       "str"
      ]
     },
     "execution_count": 12,
     "metadata": {},
     "output_type": "execute_result"
    }
   ],
   "source": [
    "type(brand)"
   ]
  },
  {
   "cell_type": "code",
   "execution_count": 13,
   "id": "e6833a5d",
   "metadata": {},
   "outputs": [
    {
     "data": {
      "text/plain": [
       "bool"
      ]
     },
     "execution_count": 13,
     "metadata": {},
     "output_type": "execute_result"
    }
   ],
   "source": [
    "type(is_billed)"
   ]
  },
  {
   "cell_type": "code",
   "execution_count": 14,
   "id": "5b0b487a",
   "metadata": {},
   "outputs": [
    {
     "name": "stdout",
     "output_type": "stream",
     "text": [
      "900\n",
      "900.0\n"
     ]
    }
   ],
   "source": [
    "bill = price + price\n",
    "print(bill//2) # integer division\n",
    "print(bill/2) # float division"
   ]
  },
  {
   "cell_type": "code",
   "execution_count": 15,
   "id": "98bfa6cf",
   "metadata": {},
   "outputs": [
    {
     "name": "stdout",
     "output_type": "stream",
     "text": [
      "885\n"
     ]
    }
   ],
   "source": [
    "discount = 15\n",
    "price_after_discount = price - discount\n",
    "print(price_after_discount)"
   ]
  },
  {
   "cell_type": "code",
   "execution_count": 16,
   "id": "e1874529",
   "metadata": {},
   "outputs": [
    {
     "name": "stdout",
     "output_type": "stream",
     "text": [
      "859.5\n"
     ]
    }
   ],
   "source": [
    "# implicit conversion\n",
    "discount = price * 0.045\n",
    "price_after_discount = price - discount\n",
    "print(price_after_discount)"
   ]
  },
  {
   "cell_type": "code",
   "execution_count": 17,
   "id": "8e3beadb",
   "metadata": {},
   "outputs": [
    {
     "data": {
      "text/plain": [
       "str"
      ]
     },
     "execution_count": 17,
     "metadata": {},
     "output_type": "execute_result"
    }
   ],
   "source": [
    "# explicit conversion\n",
    "type(str(price))"
   ]
  },
  {
   "cell_type": "markdown",
   "id": "e0409e6b",
   "metadata": {},
   "source": [
    "# List"
   ]
  },
  {
   "cell_type": "code",
   "execution_count": 18,
   "id": "9dadc9f1",
   "metadata": {},
   "outputs": [],
   "source": [
    "brand_list = [\"Apple\", \"LG\", \"Samsung\", \"Apple\"]\n",
    "price_list = [900, 850, 875, 1000]\n",
    "ram_list = [4, 8, 8, 16]\n",
    "storage_list = [64, 128, 128, 256]"
   ]
  },
  {
   "cell_type": "code",
   "execution_count": 19,
   "id": "b6791230",
   "metadata": {},
   "outputs": [
    {
     "data": {
      "text/plain": [
       "list"
      ]
     },
     "execution_count": 19,
     "metadata": {},
     "output_type": "execute_result"
    }
   ],
   "source": [
    "type(brand_list)"
   ]
  },
  {
   "cell_type": "code",
   "execution_count": 20,
   "id": "d06484fa",
   "metadata": {},
   "outputs": [
    {
     "data": {
      "text/plain": [
       "4"
      ]
     },
     "execution_count": 20,
     "metadata": {},
     "output_type": "execute_result"
    }
   ],
   "source": [
    "len(brand_list)"
   ]
  },
  {
   "cell_type": "code",
   "execution_count": 21,
   "id": "20599d87",
   "metadata": {},
   "outputs": [
    {
     "data": {
      "text/plain": [
       "850"
      ]
     },
     "execution_count": 21,
     "metadata": {},
     "output_type": "execute_result"
    }
   ],
   "source": [
    "min(price_list)"
   ]
  },
  {
   "cell_type": "code",
   "execution_count": 22,
   "id": "87d94760",
   "metadata": {},
   "outputs": [
    {
     "data": {
      "text/plain": [
       "1000"
      ]
     },
     "execution_count": 22,
     "metadata": {},
     "output_type": "execute_result"
    }
   ],
   "source": [
    "max(price_list)"
   ]
  },
  {
   "cell_type": "code",
   "execution_count": 23,
   "id": "d6d4afc8",
   "metadata": {},
   "outputs": [
    {
     "data": {
      "text/plain": [
       "875"
      ]
     },
     "execution_count": 23,
     "metadata": {},
     "output_type": "execute_result"
    }
   ],
   "source": [
    "price_list[2]"
   ]
  },
  {
   "cell_type": "code",
   "execution_count": 24,
   "id": "e0e4e53d",
   "metadata": {},
   "outputs": [
    {
     "data": {
      "text/plain": [
       "[900, 850, 875]"
      ]
     },
     "execution_count": 24,
     "metadata": {},
     "output_type": "execute_result"
    }
   ],
   "source": [
    "price_list[0:3] # o is inclusive and 3 is exclusive"
   ]
  },
  {
   "cell_type": "code",
   "execution_count": 25,
   "id": "8cc18b09",
   "metadata": {},
   "outputs": [
    {
     "data": {
      "text/plain": [
       "1000"
      ]
     },
     "execution_count": 25,
     "metadata": {},
     "output_type": "execute_result"
    }
   ],
   "source": [
    "price_list[-1]"
   ]
  },
  {
   "cell_type": "code",
   "execution_count": 26,
   "id": "1df22044",
   "metadata": {},
   "outputs": [
    {
     "data": {
      "text/plain": [
       "['Apple', 'LG', 'Samsung', 'Motorola']"
      ]
     },
     "execution_count": 26,
     "metadata": {},
     "output_type": "execute_result"
    }
   ],
   "source": [
    "brand_list[3] = \"Motorola\"\n",
    "brand_list"
   ]
  },
  {
   "cell_type": "code",
   "execution_count": 27,
   "id": "a82a6996",
   "metadata": {},
   "outputs": [
    {
     "data": {
      "text/plain": [
       "[64, 128, 128]"
      ]
     },
     "execution_count": 27,
     "metadata": {},
     "output_type": "execute_result"
    }
   ],
   "source": [
    "storage_list.pop()\n",
    "storage_list"
   ]
  },
  {
   "cell_type": "code",
   "execution_count": 28,
   "id": "3bc139dd",
   "metadata": {},
   "outputs": [
    {
     "data": {
      "text/plain": [
       "[64, 128, 128, 512]"
      ]
     },
     "execution_count": 28,
     "metadata": {},
     "output_type": "execute_result"
    }
   ],
   "source": [
    "storage_list.append(512)\n",
    "storage_list"
   ]
  },
  {
   "cell_type": "markdown",
   "id": "bea38cf8",
   "metadata": {},
   "source": [
    "# Tuple"
   ]
  },
  {
   "cell_type": "code",
   "execution_count": 29,
   "id": "6eddae2e",
   "metadata": {},
   "outputs": [
    {
     "data": {
      "text/plain": [
       "(32, 64, 128, 256)"
      ]
     },
     "execution_count": 29,
     "metadata": {},
     "output_type": "execute_result"
    }
   ],
   "source": [
    "storage = (32, 64, 128, 256)\n",
    "storage"
   ]
  },
  {
   "cell_type": "code",
   "execution_count": 30,
   "id": "aa49796e",
   "metadata": {},
   "outputs": [
    {
     "data": {
      "text/plain": [
       "tuple"
      ]
     },
     "execution_count": 30,
     "metadata": {},
     "output_type": "execute_result"
    }
   ],
   "source": [
    "type(storage)"
   ]
  },
  {
   "cell_type": "code",
   "execution_count": 31,
   "id": "c287bb31",
   "metadata": {},
   "outputs": [
    {
     "ename": "TypeError",
     "evalue": "'tuple' object does not support item assignment",
     "output_type": "error",
     "traceback": [
      "\u001b[0;31m---------------------------------------------------------------------------\u001b[0m",
      "\u001b[0;31mTypeError\u001b[0m                                 Traceback (most recent call last)",
      "Cell \u001b[0;32mIn[31], line 1\u001b[0m\n\u001b[0;32m----> 1\u001b[0m storage[\u001b[38;5;241m0\u001b[39m] \u001b[38;5;241m=\u001b[39m \u001b[38;5;241m128\u001b[39m\n",
      "\u001b[0;31mTypeError\u001b[0m: 'tuple' object does not support item assignment"
     ]
    }
   ],
   "source": [
    "storage[0] = 128 # throws error"
   ]
  },
  {
   "cell_type": "markdown",
   "id": "da7774e4",
   "metadata": {},
   "source": [
    "# Dictionary"
   ]
  },
  {
   "cell_type": "code",
   "execution_count": 32,
   "id": "677c7883",
   "metadata": {},
   "outputs": [
    {
     "data": {
      "text/plain": [
       "{'brand': ['Apple', 'LG', 'Samsung', 'Motorola'],\n",
       " 'storage': [64, 128, 128, 512],\n",
       " 'price': [900, 850, 875, 1000],\n",
       " 'ram': [4, 8, 8, 16]}"
      ]
     },
     "execution_count": 32,
     "metadata": {},
     "output_type": "execute_result"
    }
   ],
   "source": [
    "attributes = {\n",
    "    \"brand\": brand_list,\n",
    "    \"storage\": storage_list,\n",
    "    \"price\": price_list,\n",
    "    \"ram\": ram_list\n",
    "}\n",
    "attributes"
   ]
  },
  {
   "cell_type": "code",
   "execution_count": 33,
   "id": "4389c6dc",
   "metadata": {},
   "outputs": [
    {
     "data": {
      "text/plain": [
       "'LG'"
      ]
     },
     "execution_count": 33,
     "metadata": {},
     "output_type": "execute_result"
    }
   ],
   "source": [
    "attributes[\"brand\"][1]"
   ]
  },
  {
   "cell_type": "code",
   "execution_count": 34,
   "id": "654611f5",
   "metadata": {},
   "outputs": [
    {
     "data": {
      "text/plain": [
       "dict_keys(['brand', 'storage', 'price', 'ram'])"
      ]
     },
     "execution_count": 34,
     "metadata": {},
     "output_type": "execute_result"
    }
   ],
   "source": [
    "attributes.keys()"
   ]
  },
  {
   "cell_type": "code",
   "execution_count": 35,
   "id": "89ea20e6",
   "metadata": {},
   "outputs": [
    {
     "data": {
      "text/plain": [
       "dict_values([['Apple', 'LG', 'Samsung', 'Motorola'], [64, 128, 128, 512], [900, 850, 875, 1000], [4, 8, 8, 16]])"
      ]
     },
     "execution_count": 35,
     "metadata": {},
     "output_type": "execute_result"
    }
   ],
   "source": [
    "attributes.values()"
   ]
  },
  {
   "cell_type": "markdown",
   "id": "096e7ef5",
   "metadata": {},
   "source": [
    "# Conditional Statement"
   ]
  },
  {
   "cell_type": "code",
   "execution_count": 36,
   "id": "31ff4280",
   "metadata": {},
   "outputs": [
    {
     "name": "stdout",
     "output_type": "stream",
     "text": [
      "Enter your budget:900\n",
      "Congrats\n"
     ]
    }
   ],
   "source": [
    "budget = int(input(\"Enter your budget:\"))\n",
    "if price <= budget:\n",
    "    print(\"Congrats\")\n",
    "else:\n",
    "    print(\"Your budget is lesser than price\")"
   ]
  },
  {
   "cell_type": "code",
   "execution_count": 37,
   "id": "58bd01d4",
   "metadata": {},
   "outputs": [
    {
     "name": "stdout",
     "output_type": "stream",
     "text": [
      "enter memory128\n",
      "Phone price is $900\n"
     ]
    }
   ],
   "source": [
    "mem = int(input(\"enter memory\"))\n",
    "if(mem == 32):\n",
    "    print(\"Phone price is $600\")\n",
    "elif(mem == 64):\n",
    "    print(\"Phone price is $750\")\n",
    "elif(mem == 128):\n",
    "    print(\"Phone price is $900\")\n",
    "else:\n",
    "    print(\"Please enter a valid memory size\")"
   ]
  },
  {
   "cell_type": "markdown",
   "id": "9ab3d6bb",
   "metadata": {},
   "source": [
    "# Loop"
   ]
  },
  {
   "cell_type": "code",
   "execution_count": 38,
   "id": "e75e2d98",
   "metadata": {},
   "outputs": [
    {
     "data": {
      "text/plain": [
       "range(0, 6)"
      ]
     },
     "execution_count": 38,
     "metadata": {},
     "output_type": "execute_result"
    }
   ],
   "source": [
    "range(6)"
   ]
  },
  {
   "cell_type": "code",
   "execution_count": 39,
   "id": "32966cd4",
   "metadata": {},
   "outputs": [
    {
     "data": {
      "text/plain": [
       "[0, 1, 2, 3, 4, 5]"
      ]
     },
     "execution_count": 39,
     "metadata": {},
     "output_type": "execute_result"
    }
   ],
   "source": [
    "list(range(6))"
   ]
  },
  {
   "cell_type": "code",
   "execution_count": 40,
   "id": "54542235",
   "metadata": {},
   "outputs": [
    {
     "data": {
      "text/plain": [
       "[1, 2, 3, 4, 5]"
      ]
     },
     "execution_count": 40,
     "metadata": {},
     "output_type": "execute_result"
    }
   ],
   "source": [
    "list(range(1, 6)) # 1 is inclusive, 6 is exclusive"
   ]
  },
  {
   "cell_type": "code",
   "execution_count": 41,
   "id": "d70734a4",
   "metadata": {},
   "outputs": [
    {
     "data": {
      "text/plain": [
       "[6, 8, 10, 12, 14, 16, 18]"
      ]
     },
     "execution_count": 41,
     "metadata": {},
     "output_type": "execute_result"
    }
   ],
   "source": [
    "list(range(6, 20, 2)) # 6 is inclusive, 20 is exclusive"
   ]
  },
  {
   "cell_type": "code",
   "execution_count": 42,
   "id": "a45ff2d7",
   "metadata": {},
   "outputs": [
    {
     "name": "stdout",
     "output_type": "stream",
     "text": [
      "The price after discount 5 percent is $ 855.0\n",
      "The price after discount 10 percent is $ 810.0\n",
      "The price after discount 15 percent is $ 765.0\n",
      "The price after discount 20 percent is $ 720.0\n"
     ]
    }
   ],
   "source": [
    "price = 900\n",
    "for i in range(5, 21, 5):\n",
    "    discount = price * i/100\n",
    "    discounted_price = price - discount\n",
    "    print(\"The price after discount\", i, \"percent is $\", discounted_price)"
   ]
  },
  {
   "cell_type": "code",
   "execution_count": 43,
   "id": "552f6043",
   "metadata": {},
   "outputs": [
    {
     "name": "stdout",
     "output_type": "stream",
     "text": [
      "The price after discount 5 percent is $ 855.0\n",
      "The price after discount 10 percent is $ 810.0\n",
      "The price after discount 15 percent is $ 765.0\n",
      "The price after discount 20 percent is $ 720.0\n"
     ]
    }
   ],
   "source": [
    "price = 900\n",
    "i = 5\n",
    "while i <= 20:\n",
    "    discount = price * i/100\n",
    "    discounted_price = price - discount\n",
    "    print(\"The price after discount\", i, \"percent is $\", discounted_price)\n",
    "    i += 5"
   ]
  },
  {
   "cell_type": "markdown",
   "id": "e47aabb5",
   "metadata": {},
   "source": [
    "# List comprehension"
   ]
  },
  {
   "cell_type": "code",
   "execution_count": 44,
   "id": "eeb96dae",
   "metadata": {},
   "outputs": [
    {
     "name": "stdout",
     "output_type": "stream",
     "text": [
      "[855.0, 807.5, 831.25, 950.0]\n"
     ]
    }
   ],
   "source": [
    "discounted_price_list = []\n",
    "for x in price_list:\n",
    "    discounted_price = x - (x * 5/100)\n",
    "    discounted_price_list.append(discounted_price)\n",
    "print(discounted_price_list)"
   ]
  },
  {
   "cell_type": "code",
   "execution_count": 45,
   "id": "0210513e",
   "metadata": {},
   "outputs": [
    {
     "name": "stdout",
     "output_type": "stream",
     "text": [
      "[855.0, 807.5, 831.25, 950.0]\n"
     ]
    }
   ],
   "source": [
    "discounted_price_list = [x - (x * 5/100) for x in price_list]\n",
    "print(discounted_price_list)"
   ]
  },
  {
   "cell_type": "code",
   "execution_count": 46,
   "id": "1cf40ca8",
   "metadata": {},
   "outputs": [
    {
     "name": "stdout",
     "output_type": "stream",
     "text": [
      "enter your budget:900\n"
     ]
    },
    {
     "data": {
      "text/plain": [
       "['yes', 'yes', 'yes', 'no']"
      ]
     },
     "execution_count": 46,
     "metadata": {},
     "output_type": "execute_result"
    }
   ],
   "source": [
    "budget = int(input(\"enter your budget:\"))\n",
    "within_budget = ['yes' if x <= budget else 'no' for x in price_list]\n",
    "within_budget"
   ]
  },
  {
   "cell_type": "markdown",
   "id": "46768585",
   "metadata": {},
   "source": [
    "# Function"
   ]
  },
  {
   "cell_type": "code",
   "execution_count": 47,
   "id": "3c6e2f1f",
   "metadata": {},
   "outputs": [
    {
     "name": "stdout",
     "output_type": "stream",
     "text": [
      "Apple\n",
      "900\n",
      "4\n",
      "64\n"
     ]
    }
   ],
   "source": [
    "def display_phone_features(brand, price, ram, storage):\n",
    "    print(brand)\n",
    "    print(price)\n",
    "    print(ram)\n",
    "    print(storage)\n",
    "    \n",
    "display_phone_features(\"Apple\", 900, 4, 64)"
   ]
  },
  {
   "cell_type": "code",
   "execution_count": 48,
   "id": "e3cb23b4",
   "metadata": {},
   "outputs": [
    {
     "name": "stdout",
     "output_type": "stream",
     "text": [
      "890\n"
     ]
    }
   ],
   "source": [
    "def disc_price(price, discount):\n",
    "    discounted_price = price - discount\n",
    "    return discounted_price\n",
    "    \n",
    "print(disc_price(900, 10))"
   ]
  },
  {
   "cell_type": "code",
   "execution_count": 49,
   "id": "e14845f0",
   "metadata": {},
   "outputs": [
    {
     "data": {
      "text/plain": [
       "810.0"
      ]
     },
     "execution_count": 49,
     "metadata": {},
     "output_type": "execute_result"
    }
   ],
   "source": [
    "disc_price_lambda = lambda discount : 900 - (900 * discount / 100)\n",
    "disc_price_lambda(10)"
   ]
  },
  {
   "cell_type": "markdown",
   "id": "ffa1f6c7",
   "metadata": {},
   "source": [
    "# *args"
   ]
  },
  {
   "cell_type": "code",
   "execution_count": 50,
   "id": "6201439b",
   "metadata": {},
   "outputs": [
    {
     "data": {
      "text/plain": [
       "4055"
      ]
     },
     "execution_count": 50,
     "metadata": {},
     "output_type": "execute_result"
    }
   ],
   "source": [
    "def total_amount(*args):\n",
    "    total = 0\n",
    "    for arg in args:\n",
    "        total += arg\n",
    "    return total\n",
    "\n",
    "total_amount(799, 494, 389, 444, 999, 930)"
   ]
  },
  {
   "cell_type": "markdown",
   "id": "9f75f042",
   "metadata": {},
   "source": [
    "# **kwargs (keyword argument)"
   ]
  },
  {
   "cell_type": "code",
   "execution_count": 51,
   "id": "33de7c7f",
   "metadata": {},
   "outputs": [
    {
     "data": {
      "text/plain": [
       "1995.0"
      ]
     },
     "execution_count": 51,
     "metadata": {},
     "output_type": "execute_result"
    }
   ],
   "source": [
    "def total_discounted_amount(*prices, discount = 0.05): # positional argument should be always first then keyword arguments\n",
    "    total = 0\n",
    "    for price in prices:\n",
    "        total += price\n",
    "        \n",
    "    total_discounted_price = total - discount * total\n",
    "    return total_discounted_price\n",
    "    \n",
    "total_discounted_amount(100, 200, 300, 400, 500, 600)"
   ]
  },
  {
   "cell_type": "code",
   "execution_count": 52,
   "id": "0c97fd72",
   "metadata": {},
   "outputs": [
    {
     "name": "stdout",
     "output_type": "stream",
     "text": [
      "1790.0\n"
     ]
    }
   ],
   "source": [
    "def customer_net_spend(*prices, discount=0.0, **kwargs):\n",
    "    total = 0\n",
    "    for price in prices:\n",
    "        total += price\n",
    "    total_discounted_price = total - discount * total\n",
    "    net_spend = total_discounted_price - kwargs[\"cashback\"]\n",
    "    return net_spend\n",
    "    \n",
    "additionals = {\"cashback\": 10}\n",
    "print(customer_net_spend(100, 200, 300, 400, 500, 600, 700, 800, discount = 0.5, **additionals))"
   ]
  },
  {
   "cell_type": "code",
   "execution_count": 53,
   "id": "4c45fb69",
   "metadata": {},
   "outputs": [
    {
     "data": {
      "text/plain": [
       "(2100, 1990.0, 100)"
      ]
     },
     "execution_count": 53,
     "metadata": {},
     "output_type": "execute_result"
    }
   ],
   "source": [
    "def order_summary(*prices, **additionals):\n",
    "    total = 0\n",
    "    for price in prices:\n",
    "        total += price\n",
    "    net_spend = total - additionals[\"discount\"] * total  - additionals[\"cashback\"]\n",
    "    if total >= 10000:\n",
    "        reward_points = 300\n",
    "    elif total >= 5000:\n",
    "        reward_points = 200\n",
    "    elif total >= 2000:\n",
    "        reward_points = 100\n",
    "    else:\n",
    "        reward_points = 0\n",
    "        \n",
    "    return total, net_spend, reward_points\n",
    "\n",
    "additionals = {\"discount\": 0.05, \"cashback\": 5}\n",
    "order_summary(100, 200, 300, 400, 500, 600, **additionals)"
   ]
  },
  {
   "cell_type": "markdown",
   "id": "d99c0e39",
   "metadata": {},
   "source": [
    "# OOPS"
   ]
  },
  {
   "cell_type": "code",
   "execution_count": 4,
   "id": "ca53fa89",
   "metadata": {},
   "outputs": [
    {
     "name": "stdout",
     "output_type": "stream",
     "text": [
      "2\n",
      "6\n"
     ]
    }
   ],
   "source": [
    "class My_data_type:\n",
    "    def __init__(self, val1, val2):\n",
    "        self.val1 = val1\n",
    "        self.val2 = val2\n",
    "        \n",
    "    def multiply_vals(self):\n",
    "        return self.val1 * self.val2\n",
    "\n",
    "me = My_data_type(2, 3)\n",
    "print(me.val1)\n",
    "print(me.multiply_vals())"
   ]
  },
  {
   "cell_type": "markdown",
   "id": "f18e2900",
   "metadata": {},
   "source": [
    "# Numpy"
   ]
  },
  {
   "cell_type": "code",
   "execution_count": 2,
   "id": "b3744990",
   "metadata": {},
   "outputs": [],
   "source": [
    "import numpy as np"
   ]
  },
  {
   "cell_type": "code",
   "execution_count": 3,
   "id": "142ebdd3",
   "metadata": {},
   "outputs": [],
   "source": [
    "# numpy arrays contain only single data type values\n",
    "arr = [\"audi\", \"bmw\", \"ford\", \"tesla\", \"maruti\"]"
   ]
  },
  {
   "cell_type": "code",
   "execution_count": 4,
   "id": "2f4fe386",
   "metadata": {},
   "outputs": [
    {
     "data": {
      "text/plain": [
       "array(['audi', 'bmw', 'ford', 'tesla', 'maruti'], dtype='<U6')"
      ]
     },
     "execution_count": 4,
     "metadata": {},
     "output_type": "execute_result"
    }
   ],
   "source": [
    "num_arr = np.array(arr)\n",
    "num_arr"
   ]
  },
  {
   "cell_type": "code",
   "execution_count": 5,
   "id": "20768bec",
   "metadata": {},
   "outputs": [
    {
     "data": {
      "text/plain": [
       "numpy.ndarray"
      ]
     },
     "execution_count": 5,
     "metadata": {},
     "output_type": "execute_result"
    }
   ],
   "source": [
    "type(num_arr)"
   ]
  },
  {
   "cell_type": "code",
   "execution_count": 6,
   "id": "a330e769",
   "metadata": {},
   "outputs": [
    {
     "name": "stdout",
     "output_type": "stream",
     "text": [
      "[[1 2 3]\n",
      " [4 5 6]\n",
      " [7 8 9]]\n"
     ]
    }
   ],
   "source": [
    "matrix = np.array([[1,2,3], [4,5,6], [7,8,9]])\n",
    "print(matrix)"
   ]
  },
  {
   "cell_type": "code",
   "execution_count": 7,
   "id": "32476593",
   "metadata": {},
   "outputs": [
    {
     "data": {
      "text/plain": [
       "numpy.ndarray"
      ]
     },
     "execution_count": 7,
     "metadata": {},
     "output_type": "execute_result"
    }
   ],
   "source": [
    "type(matrix)"
   ]
  },
  {
   "cell_type": "code",
   "execution_count": 8,
   "id": "2e9c4e2b",
   "metadata": {},
   "outputs": [
    {
     "name": "stdout",
     "output_type": "stream",
     "text": [
      "[0 1 2 3 4 5 6 7 8 9]\n"
     ]
    }
   ],
   "source": [
    "arr2 = np.arange(start=0, stop = 10)\n",
    "\n",
    "# or\n",
    "\n",
    "arr2 = np.arange(0, 10)\n",
    "print(arr2)"
   ]
  },
  {
   "cell_type": "code",
   "execution_count": 9,
   "id": "159907f4",
   "metadata": {},
   "outputs": [
    {
     "data": {
      "text/plain": [
       "array([ 0,  5, 10, 15])"
      ]
     },
     "execution_count": 9,
     "metadata": {},
     "output_type": "execute_result"
    }
   ],
   "source": [
    "arr3 = np.arange(start=0, stop=20, step=5)\n",
    "\n",
    "# or\n",
    "\n",
    "arr3 = np.arange(0, 20, 5)\n",
    "arr3"
   ]
  },
  {
   "cell_type": "code",
   "execution_count": 10,
   "id": "36d8f834",
   "metadata": {},
   "outputs": [
    {
     "data": {
      "text/plain": [
       "array([0.        , 0.10204082, 0.20408163, 0.30612245, 0.40816327,\n",
       "       0.51020408, 0.6122449 , 0.71428571, 0.81632653, 0.91836735,\n",
       "       1.02040816, 1.12244898, 1.2244898 , 1.32653061, 1.42857143,\n",
       "       1.53061224, 1.63265306, 1.73469388, 1.83673469, 1.93877551,\n",
       "       2.04081633, 2.14285714, 2.24489796, 2.34693878, 2.44897959,\n",
       "       2.55102041, 2.65306122, 2.75510204, 2.85714286, 2.95918367,\n",
       "       3.06122449, 3.16326531, 3.26530612, 3.36734694, 3.46938776,\n",
       "       3.57142857, 3.67346939, 3.7755102 , 3.87755102, 3.97959184,\n",
       "       4.08163265, 4.18367347, 4.28571429, 4.3877551 , 4.48979592,\n",
       "       4.59183673, 4.69387755, 4.79591837, 4.89795918, 5.        ])"
      ]
     },
     "execution_count": 10,
     "metadata": {},
     "output_type": "execute_result"
    }
   ],
   "source": [
    "matrix2 = np.linspace(0,5) # default 50 count # stops where we ask to stop. in this case it is 5\n",
    "matrix2"
   ]
  },
  {
   "cell_type": "code",
   "execution_count": 11,
   "id": "157ebc49",
   "metadata": {},
   "outputs": [
    {
     "data": {
      "text/plain": [
       "array([10.        , 11.11111111, 12.22222222, 13.33333333, 14.44444444,\n",
       "       15.55555556, 16.66666667, 17.77777778, 18.88888889, 20.        ])"
      ]
     },
     "execution_count": 11,
     "metadata": {},
     "output_type": "execute_result"
    }
   ],
   "source": [
    "matrix3 = np.linspace(10, 20, 10) # last 10 is number of elements\n",
    "matrix3"
   ]
  },
  {
   "cell_type": "code",
   "execution_count": 12,
   "id": "98006438",
   "metadata": {},
   "outputs": [
    {
     "data": {
      "text/plain": [
       "array([[0., 0., 0., 0., 0.],\n",
       "       [0., 0., 0., 0., 0.],\n",
       "       [0., 0., 0., 0., 0.]])"
      ]
     },
     "execution_count": 12,
     "metadata": {},
     "output_type": "execute_result"
    }
   ],
   "source": [
    "matrix4 = np.zeros([3,5])\n",
    "matrix4"
   ]
  },
  {
   "cell_type": "code",
   "execution_count": 13,
   "id": "5fbba64c",
   "metadata": {},
   "outputs": [
    {
     "data": {
      "text/plain": [
       "array([[1., 1., 1., 1., 1.],\n",
       "       [1., 1., 1., 1., 1.],\n",
       "       [1., 1., 1., 1., 1.]])"
      ]
     },
     "execution_count": 13,
     "metadata": {},
     "output_type": "execute_result"
    }
   ],
   "source": [
    "matrix5 = np.ones([3,5])\n",
    "matrix5"
   ]
  },
  {
   "cell_type": "code",
   "execution_count": 14,
   "id": "b2307a4a",
   "metadata": {},
   "outputs": [
    {
     "data": {
      "text/plain": [
       "array([[1., 0., 0., 0., 0.],\n",
       "       [0., 1., 0., 0., 0.],\n",
       "       [0., 0., 1., 0., 0.],\n",
       "       [0., 0., 0., 1., 0.],\n",
       "       [0., 0., 0., 0., 1.]])"
      ]
     },
     "execution_count": 14,
     "metadata": {},
     "output_type": "execute_result"
    }
   ],
   "source": [
    "matrix6 = np.eye(5)\n",
    "matrix6"
   ]
  },
  {
   "cell_type": "code",
   "execution_count": 15,
   "id": "34b7ad2e",
   "metadata": {},
   "outputs": [
    {
     "data": {
      "text/plain": [
       "array([0, 1, 2, 3, 4, 5, 6, 7, 8, 9])"
      ]
     },
     "execution_count": 15,
     "metadata": {},
     "output_type": "execute_result"
    }
   ],
   "source": [
    "arr4 = np.arange(0,10)\n",
    "arr4"
   ]
  },
  {
   "cell_type": "code",
   "execution_count": 16,
   "id": "2b5f6def",
   "metadata": {},
   "outputs": [
    {
     "data": {
      "text/plain": [
       "array([[0, 1, 2, 3, 4],\n",
       "       [5, 6, 7, 8, 9]])"
      ]
     },
     "execution_count": 16,
     "metadata": {},
     "output_type": "execute_result"
    }
   ],
   "source": [
    "arr4_reshaped = arr4.reshape((2,5))\n",
    "arr4_reshaped"
   ]
  },
  {
   "cell_type": "code",
   "execution_count": 17,
   "id": "a36796a8",
   "metadata": {},
   "outputs": [
    {
     "data": {
      "text/plain": [
       "-0.7568024953079283"
      ]
     },
     "execution_count": 17,
     "metadata": {},
     "output_type": "execute_result"
    }
   ],
   "source": [
    "np.sin(4)"
   ]
  },
  {
   "cell_type": "code",
   "execution_count": 18,
   "id": "dddc374f",
   "metadata": {},
   "outputs": [
    {
     "data": {
      "text/plain": [
       "-0.6536436208636119"
      ]
     },
     "execution_count": 18,
     "metadata": {},
     "output_type": "execute_result"
    }
   ],
   "source": [
    "np.cos(4)"
   ]
  },
  {
   "cell_type": "code",
   "execution_count": 19,
   "id": "9718ce20",
   "metadata": {},
   "outputs": [
    {
     "data": {
      "text/plain": [
       "1.1578212823495775"
      ]
     },
     "execution_count": 19,
     "metadata": {},
     "output_type": "execute_result"
    }
   ],
   "source": [
    "np.tan(4)"
   ]
  },
  {
   "cell_type": "code",
   "execution_count": 20,
   "id": "87f33347",
   "metadata": {},
   "outputs": [
    {
     "data": {
      "text/plain": [
       "7.38905609893065"
      ]
     },
     "execution_count": 20,
     "metadata": {},
     "output_type": "execute_result"
    }
   ],
   "source": [
    "np.exp(2)"
   ]
  },
  {
   "cell_type": "code",
   "execution_count": 21,
   "id": "e14bb6f1",
   "metadata": {},
   "outputs": [
    {
     "data": {
      "text/plain": [
       "array([ 0.        ,  0.84147098,  0.90929743,  0.14112001, -0.7568025 ,\n",
       "       -0.95892427, -0.2794155 ,  0.6569866 ,  0.98935825,  0.41211849])"
      ]
     },
     "execution_count": 21,
     "metadata": {},
     "output_type": "execute_result"
    }
   ],
   "source": [
    "np.sin(arr4)"
   ]
  },
  {
   "cell_type": "code",
   "execution_count": 22,
   "id": "180fbfa0",
   "metadata": {},
   "outputs": [
    {
     "data": {
      "text/plain": [
       "array([ 1.        ,  0.54030231, -0.41614684, -0.9899925 , -0.65364362,\n",
       "        0.28366219,  0.96017029,  0.75390225, -0.14550003, -0.91113026])"
      ]
     },
     "execution_count": 22,
     "metadata": {},
     "output_type": "execute_result"
    }
   ],
   "source": [
    "np.cos(arr4)"
   ]
  },
  {
   "cell_type": "code",
   "execution_count": 23,
   "id": "db080839",
   "metadata": {},
   "outputs": [
    {
     "data": {
      "text/plain": [
       "array([ 0.        ,  1.55740772, -2.18503986, -0.14254654,  1.15782128,\n",
       "       -3.38051501, -0.29100619,  0.87144798, -6.79971146, -0.45231566])"
      ]
     },
     "execution_count": 23,
     "metadata": {},
     "output_type": "execute_result"
    }
   ],
   "source": [
    "np.tan(arr4)"
   ]
  },
  {
   "cell_type": "code",
   "execution_count": 24,
   "id": "5ff4897a",
   "metadata": {},
   "outputs": [
    {
     "data": {
      "text/plain": [
       "array([1.00000000e+00, 2.71828183e+00, 7.38905610e+00, 2.00855369e+01,\n",
       "       5.45981500e+01, 1.48413159e+02, 4.03428793e+02, 1.09663316e+03,\n",
       "       2.98095799e+03, 8.10308393e+03])"
      ]
     },
     "execution_count": 24,
     "metadata": {},
     "output_type": "execute_result"
    }
   ],
   "source": [
    "np.exp(arr4)"
   ]
  },
  {
   "cell_type": "code",
   "execution_count": 25,
   "id": "b1067c7e",
   "metadata": {},
   "outputs": [
    {
     "data": {
      "text/plain": [
       "0.6931471805599453"
      ]
     },
     "execution_count": 25,
     "metadata": {},
     "output_type": "execute_result"
    }
   ],
   "source": [
    "np.log(2)"
   ]
  },
  {
   "cell_type": "code",
   "execution_count": 26,
   "id": "0ee5f7bd",
   "metadata": {},
   "outputs": [
    {
     "data": {
      "text/plain": [
       "array([0.69314718, 1.38629436, 1.79175947])"
      ]
     },
     "execution_count": 26,
     "metadata": {},
     "output_type": "execute_result"
    }
   ],
   "source": [
    "arr5 = np.array([2,4,6])\n",
    "np.log(arr5)"
   ]
  },
  {
   "cell_type": "code",
   "execution_count": 27,
   "id": "09ae11bb",
   "metadata": {},
   "outputs": [
    {
     "data": {
      "text/plain": [
       "0.6989700043360189"
      ]
     },
     "execution_count": 27,
     "metadata": {},
     "output_type": "execute_result"
    }
   ],
   "source": [
    "np.log10(5)"
   ]
  },
  {
   "cell_type": "code",
   "execution_count": 28,
   "id": "c42f0c33",
   "metadata": {},
   "outputs": [
    {
     "data": {
      "text/plain": [
       "2.321928094887362"
      ]
     },
     "execution_count": 28,
     "metadata": {},
     "output_type": "execute_result"
    }
   ],
   "source": [
    "np.log2(5)"
   ]
  },
  {
   "cell_type": "code",
   "execution_count": 29,
   "id": "47558ae1",
   "metadata": {},
   "outputs": [
    {
     "name": "stdout",
     "output_type": "stream",
     "text": [
      "[1, 2, 3, 4, 5, 6]\n"
     ]
    }
   ],
   "source": [
    "l1 = [1,2,3]\n",
    "l2 = [4,5,6]\n",
    "# list addition\n",
    "print(l1+l2)"
   ]
  },
  {
   "cell_type": "code",
   "execution_count": 30,
   "id": "4ad39e9d",
   "metadata": {},
   "outputs": [
    {
     "name": "stdout",
     "output_type": "stream",
     "text": [
      "[1 2 3 4 5]\n",
      "[3 4 5 6 7]\n"
     ]
    }
   ],
   "source": [
    "arr7 = np.arange(1,6)\n",
    "arr8 = np.arange(3,8)\n",
    "print(arr7)\n",
    "print(arr8)"
   ]
  },
  {
   "cell_type": "code",
   "execution_count": 31,
   "id": "cae9bab5",
   "metadata": {},
   "outputs": [
    {
     "name": "stdout",
     "output_type": "stream",
     "text": [
      "[ 4  6  8 10 12]\n",
      "[-2 -2 -2 -2 -2]\n",
      "[ 3  8 15 24 35]\n",
      "[0.33333333 0.5        0.6        0.66666667 0.71428571]\n",
      "[0.33333333 0.25       0.2        0.16666667 0.14285714]\n",
      "[    1    16   243  4096 78125]\n"
     ]
    }
   ],
   "source": [
    "print(arr7+arr8)\n",
    "print(arr7-arr8)\n",
    "print(arr7*arr8)\n",
    "print(arr7/arr8)\n",
    "print(1/arr8)\n",
    "print(arr7**arr8) # power"
   ]
  },
  {
   "cell_type": "code",
   "execution_count": 32,
   "id": "c834c219",
   "metadata": {},
   "outputs": [
    {
     "name": "stdout",
     "output_type": "stream",
     "text": [
      "[[1 2 3]\n",
      " [4 5 6]\n",
      " [7 8 9]]\n"
     ]
    }
   ],
   "source": [
    "matrix7 = np.arange(1,10).reshape(3,3)\n",
    "print(matrix7)"
   ]
  },
  {
   "cell_type": "code",
   "execution_count": 33,
   "id": "76035197",
   "metadata": {},
   "outputs": [
    {
     "name": "stdout",
     "output_type": "stream",
     "text": [
      "[[1. 0. 0.]\n",
      " [0. 1. 0.]\n",
      " [0. 0. 1.]]\n"
     ]
    }
   ],
   "source": [
    "matrix8 = np.eye(3)\n",
    "print(matrix8)"
   ]
  },
  {
   "cell_type": "code",
   "execution_count": 34,
   "id": "bec5a78d",
   "metadata": {},
   "outputs": [
    {
     "name": "stdout",
     "output_type": "stream",
     "text": [
      "[[ 2.  2.  3.]\n",
      " [ 4.  6.  6.]\n",
      " [ 7.  8. 10.]]\n",
      "[[0. 2. 3.]\n",
      " [4. 4. 6.]\n",
      " [7. 8. 8.]]\n",
      "[[1. 0. 0.]\n",
      " [0. 5. 0.]\n",
      " [0. 0. 9.]]\n",
      "[[ 1. inf inf]\n",
      " [inf  5. inf]\n",
      " [inf inf  9.]]\n",
      "[[1. 1. 1.]\n",
      " [1. 5. 1.]\n",
      " [1. 1. 9.]]\n"
     ]
    },
    {
     "name": "stderr",
     "output_type": "stream",
     "text": [
      "/var/folders/rb/vxz6k1t5467dsdk0dw0msyhm0000gn/T/ipykernel_2615/530848376.py:4: RuntimeWarning: divide by zero encountered in divide\n",
      "  print(matrix7/matrix8)\n"
     ]
    }
   ],
   "source": [
    "print(matrix7+matrix8)\n",
    "print(matrix7-matrix8)\n",
    "print(matrix7*matrix8)\n",
    "print(matrix7/matrix8)\n",
    "print(matrix7**matrix8)"
   ]
  },
  {
   "cell_type": "code",
   "execution_count": 35,
   "id": "c3670dc9",
   "metadata": {},
   "outputs": [
    {
     "name": "stdout",
     "output_type": "stream",
     "text": [
      "[[1 2 3]\n",
      " [4 5 6]\n",
      " [7 8 9]]\n",
      "[[11 12 13]\n",
      " [14 15 16]\n",
      " [17 18 19]]\n",
      "[[ 90  96 102]\n",
      " [216 231 246]\n",
      " [342 366 390]]\n"
     ]
    }
   ],
   "source": [
    "# linear algebra matrix multiplication or dot product\n",
    "matrix9 = np.arange(1,10).reshape(3,3)\n",
    "print(matrix9)\n",
    "matrix10 = np.arange(11,20).reshape(3,3)\n",
    "print(matrix10)\n",
    "print(matrix9 @ matrix10)"
   ]
  },
  {
   "cell_type": "code",
   "execution_count": 36,
   "id": "e9cab155",
   "metadata": {},
   "outputs": [
    {
     "name": "stdout",
     "output_type": "stream",
     "text": [
      "[[1 2 3]\n",
      " [4 5 6]\n",
      " [7 8 9]]\n",
      "[[1 4 7]\n",
      " [2 5 8]\n",
      " [3 6 9]]\n"
     ]
    }
   ],
   "source": [
    "print(matrix9)\n",
    "# transpose\n",
    "print(matrix9.T)"
   ]
  },
  {
   "cell_type": "code",
   "execution_count": 37,
   "id": "fe71784f",
   "metadata": {},
   "outputs": [
    {
     "name": "stdout",
     "output_type": "stream",
     "text": [
      "1\n",
      "9\n"
     ]
    }
   ],
   "source": [
    "print(np.min(matrix9))\n",
    "print(np.max(matrix9))"
   ]
  },
  {
   "cell_type": "code",
   "execution_count": 38,
   "id": "aeb5de00",
   "metadata": {},
   "outputs": [
    {
     "data": {
      "text/plain": [
       "array([[0.2703982 , 0.59770802, 0.09578918, 0.38108796, 0.35629814],\n",
       "       [0.425693  , 0.64058553, 0.3740592 , 0.58193261, 0.81503193],\n",
       "       [0.21483214, 0.22832016, 0.49353819, 0.38509117, 0.13857841],\n",
       "       [0.01971428, 0.56614846, 0.48390532, 0.43114127, 0.00801088],\n",
       "       [0.46437669, 0.24026858, 0.38271354, 0.29185708, 0.32572479]])"
      ]
     },
     "execution_count": 38,
     "metadata": {},
     "output_type": "execute_result"
    }
   ],
   "source": [
    "rand_mat = np.random.rand(5,5)\n",
    "rand_mat"
   ]
  },
  {
   "cell_type": "code",
   "execution_count": 39,
   "id": "020bfe6b",
   "metadata": {},
   "outputs": [
    {
     "data": {
      "text/plain": [
       "array([-0.13879153, -0.0465275 ,  0.27954644,  0.65759186,  0.37341972])"
      ]
     },
     "execution_count": 39,
     "metadata": {},
     "output_type": "execute_result"
    }
   ],
   "source": [
    "rand_mat2 = np.random.randn(5) #n for normal\n",
    "rand_mat2"
   ]
  },
  {
   "cell_type": "code",
   "execution_count": 41,
   "id": "0fb2b2b3",
   "metadata": {},
   "outputs": [
    {
     "name": "stdout",
     "output_type": "stream",
     "text": [
      "0.28920957683206866\n",
      "0.22504779846926196\n"
     ]
    }
   ],
   "source": [
    "# std diviation\n",
    "print(np.std(rand_mat2))\n",
    "#mean\n",
    "print(np.mean(rand_mat2))"
   ]
  },
  {
   "cell_type": "code",
   "execution_count": 42,
   "id": "b3919393",
   "metadata": {},
   "outputs": [
    {
     "name": "stdout",
     "output_type": "stream",
     "text": [
      "[1 4 2 1 2 3 2 4 4 4]\n"
     ]
    }
   ],
   "source": [
    "rand_mat3 = np.random.randint(1, 5, 10)\n",
    "print(rand_mat3)"
   ]
  },
  {
   "cell_type": "code",
   "execution_count": 76,
   "id": "a2fb7928",
   "metadata": {},
   "outputs": [
    {
     "name": "stdout",
     "output_type": "stream",
     "text": [
      "[[8 5 3 2 2]\n",
      " [3 5 1 3 2]\n",
      " [6 8 7 1 9]\n",
      " [3 4 6 5 3]\n",
      " [8 9 4 6 4]]\n"
     ]
    }
   ],
   "source": [
    "rand_mat4 = np.random.randint(1, 10, [5,5])\n",
    "print(rand_mat4)"
   ]
  },
  {
   "cell_type": "code",
   "execution_count": 45,
   "id": "a4536b4c",
   "metadata": {},
   "outputs": [
    {
     "name": "stdout",
     "output_type": "stream",
     "text": [
      "[-0.44306749  2.5311557   0.7848394  -0.31528662  1.46036419  0.76315017\n",
      "  0.14956647 -0.40079883 -0.93785851 -1.31675699]\n"
     ]
    }
   ],
   "source": [
    "rand_mat5 = np.random.randn(10)\n",
    "print(rand_mat5)"
   ]
  },
  {
   "cell_type": "code",
   "execution_count": 46,
   "id": "9b589209",
   "metadata": {},
   "outputs": [
    {
     "name": "stdout",
     "output_type": "stream",
     "text": [
      "1.4603641879778664\n"
     ]
    }
   ],
   "source": [
    "print(rand_mat5[4])"
   ]
  },
  {
   "cell_type": "code",
   "execution_count": 47,
   "id": "3ae2bcec",
   "metadata": {},
   "outputs": [
    {
     "name": "stdout",
     "output_type": "stream",
     "text": [
      "[ 1.46036419  0.76315017  0.14956647 -0.40079883 -0.93785851]\n"
     ]
    }
   ],
   "source": [
    "print(rand_mat5[4:9]) # 9 is excluded"
   ]
  },
  {
   "cell_type": "code",
   "execution_count": 50,
   "id": "d2f02561",
   "metadata": {},
   "outputs": [
    {
     "name": "stdout",
     "output_type": "stream",
     "text": [
      "[-0.31528662  0.14956647 -1.31675699]\n"
     ]
    }
   ],
   "source": [
    "print(rand_mat5[np.arange(3, 10, 3)])"
   ]
  },
  {
   "cell_type": "code",
   "execution_count": 51,
   "id": "96f0399b",
   "metadata": {},
   "outputs": [
    {
     "data": {
      "text/plain": [
       "array([2.5311557 , 0.7848394 , 1.46036419, 0.76315017, 0.14956647])"
      ]
     },
     "execution_count": 51,
     "metadata": {},
     "output_type": "execute_result"
    }
   ],
   "source": [
    "rand_mat5[rand_mat5>0]"
   ]
  },
  {
   "cell_type": "code",
   "execution_count": 52,
   "id": "56edc23a",
   "metadata": {},
   "outputs": [
    {
     "data": {
      "text/plain": [
       "array([-0.44306749, -0.31528662, -0.40079883, -0.93785851, -1.31675699])"
      ]
     },
     "execution_count": 52,
     "metadata": {},
     "output_type": "execute_result"
    }
   ],
   "source": [
    "rand_mat5[rand_mat5<0]"
   ]
  },
  {
   "cell_type": "code",
   "execution_count": 53,
   "id": "dd89b3b1",
   "metadata": {},
   "outputs": [
    {
     "data": {
      "text/plain": [
       "array([[ 0.58022476, -0.37011814, -0.31597427, -0.9128299 , -0.66105203],\n",
       "       [ 0.58003481,  0.75343406,  1.48291944,  0.46292588, -1.65566423],\n",
       "       [ 1.39288281, -1.30704625, -0.2431677 ,  0.31527128, -1.77273062],\n",
       "       [-2.01222757,  0.07102021, -0.06045438, -0.28193381,  0.834555  ],\n",
       "       [ 0.04275651, -0.61101355, -0.90877939,  1.1566982 ,  0.87376204]])"
      ]
     },
     "execution_count": 53,
     "metadata": {},
     "output_type": "execute_result"
    }
   ],
   "source": [
    "rand_mat6 = np.random.randn(5,5)\n",
    "rand_mat6"
   ]
  },
  {
   "cell_type": "code",
   "execution_count": 54,
   "id": "dbcc3fb0",
   "metadata": {},
   "outputs": [
    {
     "data": {
      "text/plain": [
       "array([ 0.04275651, -0.61101355, -0.90877939,  1.1566982 ,  0.87376204])"
      ]
     },
     "execution_count": 54,
     "metadata": {},
     "output_type": "execute_result"
    }
   ],
   "source": [
    "rand_mat6[4]"
   ]
  },
  {
   "cell_type": "code",
   "execution_count": 59,
   "id": "f8649c65",
   "metadata": {},
   "outputs": [
    {
     "name": "stdout",
     "output_type": "stream",
     "text": [
      "0.8737620366290723\n",
      "0.8737620366290723\n"
     ]
    }
   ],
   "source": [
    "print(rand_mat6[4,4])\n",
    "#or\n",
    "print(rand_mat6[4][4])"
   ]
  },
  {
   "cell_type": "code",
   "execution_count": 63,
   "id": "2e605861",
   "metadata": {},
   "outputs": [
    {
     "data": {
      "text/plain": [
       "array([[-0.37011814, -0.31597427],\n",
       "       [ 0.75343406,  1.48291944]])"
      ]
     },
     "execution_count": 63,
     "metadata": {},
     "output_type": "execute_result"
    }
   ],
   "source": [
    "rand_mat6[0:2,1:3] # rows o to 2(excluded) and collumns 1 to 3(excluded)"
   ]
  },
  {
   "cell_type": "code",
   "execution_count": 64,
   "id": "dd6c3943",
   "metadata": {},
   "outputs": [
    {
     "data": {
      "text/plain": [
       "array([0.58022476, 0.58003481, 0.75343406, 1.48291944, 0.46292588,\n",
       "       1.39288281, 0.31527128, 0.07102021, 0.834555  , 0.04275651,\n",
       "       1.1566982 , 0.87376204])"
      ]
     },
     "execution_count": 64,
     "metadata": {},
     "output_type": "execute_result"
    }
   ],
   "source": [
    "rand_mat6[rand_mat6>0] # converts into 1 dimensional array from matrix"
   ]
  },
  {
   "cell_type": "code",
   "execution_count": 65,
   "id": "587e2294",
   "metadata": {},
   "outputs": [
    {
     "data": {
      "text/plain": [
       "array([-0.44306749,  2.5311557 ,  0.7848394 ,  5.        ,  5.        ,\n",
       "        0.76315017,  0.14956647, -0.40079883, -0.93785851, -1.31675699])"
      ]
     },
     "execution_count": 65,
     "metadata": {},
     "output_type": "execute_result"
    }
   ],
   "source": [
    "rand_mat5[3:5] = 5 # assigns 5 to 3rd and 4th element\n",
    "rand_mat5"
   ]
  },
  {
   "cell_type": "code",
   "execution_count": 66,
   "id": "58b5f571",
   "metadata": {},
   "outputs": [
    {
     "data": {
      "text/plain": [
       "array([ 2.        ,  3.        ,  0.7848394 ,  5.        ,  5.        ,\n",
       "        0.76315017,  0.14956647, -0.40079883, -0.93785851, -1.31675699])"
      ]
     },
     "execution_count": 66,
     "metadata": {},
     "output_type": "execute_result"
    }
   ],
   "source": [
    "rand_mat5[0:2] = [2,3]\n",
    "rand_mat5"
   ]
  },
  {
   "cell_type": "code",
   "execution_count": 67,
   "id": "f6f408bb",
   "metadata": {},
   "outputs": [
    {
     "data": {
      "text/plain": [
       "array([56.        , 56.        , 56.        , 56.        , 56.        ,\n",
       "       56.        , 56.        , -0.40079883, -0.93785851, -1.31675699])"
      ]
     },
     "execution_count": 67,
     "metadata": {},
     "output_type": "execute_result"
    }
   ],
   "source": [
    "rand_mat5[rand_mat5>0] = 56\n",
    "rand_mat5"
   ]
  },
  {
   "cell_type": "code",
   "execution_count": 77,
   "id": "15c396d4",
   "metadata": {},
   "outputs": [
    {
     "name": "stdout",
     "output_type": "stream",
     "text": [
      "[[8 5 3 2 2]\n",
      " [3 5 1 3 2]\n",
      " [6 8 7 1 9]\n",
      " [3 4 6 5 3]\n",
      " [8 9 4 6 4]]\n",
      "after\n",
      "[[8 5 3 2 2]\n",
      " [3 5 1 0 0]\n",
      " [6 8 7 0 0]\n",
      " [3 4 6 5 3]\n",
      " [8 9 4 6 4]]\n"
     ]
    }
   ],
   "source": [
    "print(rand_mat4)\n",
    "rand_mat4[1:3, 3:5] = 0\n",
    "print(\"after\")\n",
    "print(rand_mat4)"
   ]
  },
  {
   "cell_type": "code",
   "execution_count": 78,
   "id": "01e21ad0",
   "metadata": {},
   "outputs": [
    {
     "name": "stdout",
     "output_type": "stream",
     "text": [
      "[[8 5 3]\n",
      " [3 5 1]]\n"
     ]
    }
   ],
   "source": [
    "sub_mat = rand_mat4[0:2, 0:3]\n",
    "print(sub_mat)"
   ]
  },
  {
   "cell_type": "code",
   "execution_count": 79,
   "id": "95fee686",
   "metadata": {},
   "outputs": [
    {
     "name": "stdout",
     "output_type": "stream",
     "text": [
      "[[3 3 3]\n",
      " [3 3 3]]\n"
     ]
    }
   ],
   "source": [
    "sub_mat[:] = 3\n",
    "print(sub_mat)"
   ]
  },
  {
   "cell_type": "code",
   "execution_count": 80,
   "id": "e51d41ac",
   "metadata": {},
   "outputs": [
    {
     "data": {
      "text/plain": [
       "array([[3, 3, 3, 2, 2],\n",
       "       [3, 3, 3, 0, 0],\n",
       "       [6, 8, 7, 0, 0],\n",
       "       [3, 4, 6, 5, 3],\n",
       "       [8, 9, 4, 6, 4]])"
      ]
     },
     "execution_count": 80,
     "metadata": {},
     "output_type": "execute_result"
    }
   ],
   "source": [
    "rand_mat4"
   ]
  },
  {
   "cell_type": "code",
   "execution_count": 83,
   "id": "5285ea50",
   "metadata": {},
   "outputs": [
    {
     "name": "stdout",
     "output_type": "stream",
     "text": [
      "[[ 0.56873437 -0.54560477  1.84520602  0.09514285  0.7960171 ]\n",
      " [ 0.29453122 -0.15810382  0.85929686  0.20503799  0.75438749]\n",
      " [ 0.89138253  2.04283777  0.78122612 -0.21117328 -0.53044357]\n",
      " [ 0.67163536  0.60300521  0.53511908 -0.9937859   0.64163127]\n",
      " [ 0.78917116 -0.37597196 -0.1499593   0.39389304  1.18648603]]\n",
      "[[3. 3. 3.]\n",
      " [3. 3. 3.]]\n",
      "[[ 0.56873437 -0.54560477  1.84520602  0.09514285  0.7960171 ]\n",
      " [ 0.29453122 -0.15810382  0.85929686  0.20503799  0.75438749]\n",
      " [ 0.89138253  2.04283777  0.78122612 -0.21117328 -0.53044357]\n",
      " [ 0.67163536  0.60300521  0.53511908 -0.9937859   0.64163127]\n",
      " [ 0.78917116 -0.37597196 -0.1499593   0.39389304  1.18648603]]\n"
     ]
    }
   ],
   "source": [
    "rand_mat8 = np.random.randn(5,5)\n",
    "print(rand_mat8)\n",
    "sub_mat2 = rand_mat8[0:2,0:3].copy() # this will not edit the main matrix\n",
    "sub_mat2[:] = 3\n",
    "print(sub_mat2)\n",
    "print(rand_mat8)"
   ]
  },
  {
   "cell_type": "code",
   "execution_count": 84,
   "id": "24827c01",
   "metadata": {},
   "outputs": [
    {
     "name": "stdout",
     "output_type": "stream",
     "text": [
      "[[1 3 1 2 5]\n",
      " [9 5 2 4 2]]\n",
      "\n",
      "[[15 12 10 18 13]\n",
      " [12 13 11 19 13]]\n"
     ]
    }
   ],
   "source": [
    "randint_mat1 = np.random.randint(1,10,10).reshape(2,5)\n",
    "print(randint_mat1)\n",
    "print(\"\")\n",
    "randint_mat2 = np.random.randint(10,20,10).reshape(2,5)\n",
    "print(randint_mat2)"
   ]
  },
  {
   "cell_type": "code",
   "execution_count": 85,
   "id": "6747f872",
   "metadata": {},
   "outputs": [],
   "source": [
    "np.save(\"/Users/jesminechaudhuri/Documents/Practice_apps/Python_Practice_Codes/first_file\", randint_mat1)"
   ]
  },
  {
   "cell_type": "code",
   "execution_count": 86,
   "id": "2373c157",
   "metadata": {},
   "outputs": [],
   "source": [
    "np.savez(\"/Users/jesminechaudhuri/Documents/Practice_apps/Python_Practice_Codes/multiple_files\", randint_mat1=randint_mat1, randint_mat2=randint_mat2)"
   ]
  },
  {
   "cell_type": "code",
   "execution_count": 87,
   "id": "50ec9d73",
   "metadata": {},
   "outputs": [
    {
     "name": "stdout",
     "output_type": "stream",
     "text": [
      "[[1 3 1 2 5]\n",
      " [9 5 2 4 2]]\n",
      "<numpy.lib.npyio.NpzFile object at 0x107e1ddd0>\n"
     ]
    }
   ],
   "source": [
    "loaded_arr = np.load(\"/Users/jesminechaudhuri/Documents/Practice_apps/Python_Practice_Codes/first_file.npy\")\n",
    "loaded_multi = np.load(\"/Users/jesminechaudhuri/Documents/Practice_apps/Python_Practice_Codes/multiple_files.npz\")\n",
    "\n",
    "print(loaded_arr)\n",
    "print(loaded_multi)"
   ]
  },
  {
   "cell_type": "code",
   "execution_count": 88,
   "id": "49847ada",
   "metadata": {},
   "outputs": [
    {
     "name": "stdout",
     "output_type": "stream",
     "text": [
      "[[1 3 1 2 5]\n",
      " [9 5 2 4 2]]\n"
     ]
    }
   ],
   "source": [
    "print(loaded_multi[\"randint_mat1\"])"
   ]
  },
  {
   "cell_type": "code",
   "execution_count": 90,
   "id": "2fed8abf",
   "metadata": {},
   "outputs": [
    {
     "name": "stdout",
     "output_type": "stream",
     "text": [
      "[[1. 3. 1. 2. 5.]\n",
      " [9. 5. 2. 4. 2.]]\n"
     ]
    }
   ],
   "source": [
    "np.savetxt(\"/Users/jesminechaudhuri/Documents/Practice_apps/Python_Practice_Codes/first_file.txt\",randint_mat1,delimiter=\",\")\n",
    "rand_mat_txt = np.loadtxt(\"/Users/jesminechaudhuri/Documents/Practice_apps/Python_Practice_Codes/first_file.txt\",delimiter=\",\")\n",
    "\n",
    "print(rand_mat_txt)"
   ]
  },
  {
   "cell_type": "markdown",
   "id": "5b68f19d",
   "metadata": {},
   "source": [
    "# Pandas"
   ]
  },
  {
   "cell_type": "code",
   "execution_count": 2,
   "id": "dc812de0",
   "metadata": {},
   "outputs": [],
   "source": [
    "import pandas as pd"
   ]
  },
  {
   "cell_type": "code",
   "execution_count": 92,
   "id": "05fa4025",
   "metadata": {},
   "outputs": [
    {
     "name": "stdout",
     "output_type": "stream",
     "text": [
      "0    100\n",
      "1    200\n",
      "2    300\n",
      "3    400\n",
      "4    500\n",
      "dtype: int64\n",
      "0    100\n",
      "1    200\n",
      "2    300\n",
      "3    400\n",
      "4    500\n",
      "dtype: int64\n"
     ]
    }
   ],
   "source": [
    "med_price_list = [100, 200, 300, 400, 500]\n",
    "med_price_arr = np.array(med_price_list)\n",
    "\n",
    "series_list = pd.Series(med_price_list)\n",
    "series_arr = pd.Series(med_price_arr)\n",
    "\n",
    "print(series_list)\n",
    "print(series_arr)"
   ]
  },
  {
   "cell_type": "code",
   "execution_count": 93,
   "id": "fc6b3812",
   "metadata": {},
   "outputs": [
    {
     "name": "stdout",
     "output_type": "stream",
     "text": [
      "Omez           100\n",
      "Cetzin         200\n",
      "Azithral       300\n",
      "Dolo           400\n",
      "Paracetamal    500\n",
      "dtype: int64\n"
     ]
    }
   ],
   "source": [
    "med_price_list_labeled = pd.Series(med_price_list, index=[\"Omez\", \"Cetzin\", \"Azithral\", \"Dolo\", \"Paracetamal\"])\n",
    "print(med_price_list_labeled)"
   ]
  },
  {
   "cell_type": "code",
   "execution_count": 3,
   "id": "353c40a3",
   "metadata": {},
   "outputs": [
    {
     "data": {
      "text/plain": [
       "AT&T          171\n",
       "Verizon       150\n",
       "T-Mobile      120\n",
       "US-Celluar    190\n",
       "dtype: int64"
      ]
     },
     "execution_count": 3,
     "metadata": {},
     "output_type": "execute_result"
    }
   ],
   "source": [
    "operators = [\"AT&T\", \"Verizon\", \"T-Mobile\", \"US-Celluar\"]\n",
    "revenue = [171, 150, 120, 190]\n",
    "\n",
    "telecom = pd.Series(revenue, index=operators)\n",
    "telecom"
   ]
  },
  {
   "cell_type": "code",
   "execution_count": 4,
   "id": "07dddb59",
   "metadata": {},
   "outputs": [
    {
     "data": {
      "text/plain": [
       "171"
      ]
     },
     "execution_count": 4,
     "metadata": {},
     "output_type": "execute_result"
    }
   ],
   "source": [
    "telecom[0]"
   ]
  },
  {
   "cell_type": "code",
   "execution_count": 5,
   "id": "32dafbe7",
   "metadata": {},
   "outputs": [
    {
     "data": {
      "text/plain": [
       "AT&T        171\n",
       "Verizon     150\n",
       "T-Mobile    120\n",
       "dtype: int64"
      ]
     },
     "execution_count": 5,
     "metadata": {},
     "output_type": "execute_result"
    }
   ],
   "source": [
    "telecom[:3]"
   ]
  },
  {
   "cell_type": "code",
   "execution_count": 6,
   "id": "39efe869",
   "metadata": {},
   "outputs": [
    {
     "data": {
      "text/plain": [
       "T-Mobile      120\n",
       "US-Celluar    190\n",
       "dtype: int64"
      ]
     },
     "execution_count": 6,
     "metadata": {},
     "output_type": "execute_result"
    }
   ],
   "source": [
    "telecom[-2:]"
   ]
  },
  {
   "cell_type": "code",
   "execution_count": 8,
   "id": "380b7439",
   "metadata": {},
   "outputs": [
    {
     "data": {
      "text/plain": [
       "AT&T          171\n",
       "T-Mobile      120\n",
       "US-Celluar    190\n",
       "dtype: int64"
      ]
     },
     "execution_count": 8,
     "metadata": {},
     "output_type": "execute_result"
    }
   ],
   "source": [
    "telecom[[0,2,3]]"
   ]
  },
  {
   "cell_type": "code",
   "execution_count": 10,
   "id": "979e30f2",
   "metadata": {},
   "outputs": [
    {
     "data": {
      "text/plain": [
       "AT&T          171\n",
       "US-Celluar    190\n",
       "dtype: int64"
      ]
     },
     "execution_count": 10,
     "metadata": {},
     "output_type": "execute_result"
    }
   ],
   "source": [
    "telecom[[\"AT&T\", \"US-Celluar\"]]"
   ]
  },
  {
   "cell_type": "code",
   "execution_count": 35,
   "id": "3c7a38ae",
   "metadata": {},
   "outputs": [
    {
     "data": {
      "text/html": [
       "<div>\n",
       "<style scoped>\n",
       "    .dataframe tbody tr th:only-of-type {\n",
       "        vertical-align: middle;\n",
       "    }\n",
       "\n",
       "    .dataframe tbody tr th {\n",
       "        vertical-align: top;\n",
       "    }\n",
       "\n",
       "    .dataframe thead th {\n",
       "        text-align: right;\n",
       "    }\n",
       "</style>\n",
       "<table border=\"1\" class=\"dataframe\">\n",
       "  <thead>\n",
       "    <tr style=\"text-align: right;\">\n",
       "      <th></th>\n",
       "      <th>customer_id</th>\n",
       "      <th>location</th>\n",
       "      <th>gender</th>\n",
       "      <th>type</th>\n",
       "      <th>quantity</th>\n",
       "    </tr>\n",
       "  </thead>\n",
       "  <tbody>\n",
       "    <tr>\n",
       "      <th>0</th>\n",
       "      <td>cust01</td>\n",
       "      <td>Chicago</td>\n",
       "      <td>M</td>\n",
       "      <td>electronics</td>\n",
       "      <td>1</td>\n",
       "    </tr>\n",
       "    <tr>\n",
       "      <th>1</th>\n",
       "      <td>cust02</td>\n",
       "      <td>Austin</td>\n",
       "      <td>M</td>\n",
       "      <td>groceries</td>\n",
       "      <td>2</td>\n",
       "    </tr>\n",
       "    <tr>\n",
       "      <th>2</th>\n",
       "      <td>cust03</td>\n",
       "      <td>Seatlle</td>\n",
       "      <td>F</td>\n",
       "      <td>medicine</td>\n",
       "      <td>3</td>\n",
       "    </tr>\n",
       "    <tr>\n",
       "      <th>3</th>\n",
       "      <td>cust04</td>\n",
       "      <td>LA</td>\n",
       "      <td>F</td>\n",
       "      <td>beauty</td>\n",
       "      <td>4</td>\n",
       "    </tr>\n",
       "  </tbody>\n",
       "</table>\n",
       "</div>"
      ],
      "text/plain": [
       "  customer_id location gender         type  quantity\n",
       "0      cust01  Chicago      M  electronics         1\n",
       "1      cust02   Austin      M    groceries         2\n",
       "2      cust03  Seatlle      F     medicine         3\n",
       "3      cust04       LA      F       beauty         4"
      ]
     },
     "execution_count": 35,
     "metadata": {},
     "output_type": "execute_result"
    }
   ],
   "source": [
    "store_data = pd.DataFrame({\"customer_id\": [\"cust01\", \"cust02\", \"cust03\", \"cust04\"],\n",
    "               \"location\": [\"Chicago\", \"Austin\", \"Seatlle\", \"LA\"],\n",
    "               \"gender\": [\"M\", \"M\", \"F\", \"F\"],\n",
    "               \"type\": [\"electronics\", \"groceries\", \"medicine\", \"beauty\"],\n",
    "               \"quantity\": [1,2,3,4]})\n",
    "store_data"
   ]
  },
  {
   "cell_type": "code",
   "execution_count": 36,
   "id": "508c6596",
   "metadata": {},
   "outputs": [
    {
     "data": {
      "text/html": [
       "<div>\n",
       "<style scoped>\n",
       "    .dataframe tbody tr th:only-of-type {\n",
       "        vertical-align: middle;\n",
       "    }\n",
       "\n",
       "    .dataframe tbody tr th {\n",
       "        vertical-align: top;\n",
       "    }\n",
       "\n",
       "    .dataframe thead th {\n",
       "        text-align: right;\n",
       "    }\n",
       "</style>\n",
       "<table border=\"1\" class=\"dataframe\">\n",
       "  <thead>\n",
       "    <tr style=\"text-align: right;\">\n",
       "      <th></th>\n",
       "      <th>customer_id</th>\n",
       "      <th>location</th>\n",
       "      <th>gender</th>\n",
       "      <th>type</th>\n",
       "      <th>quantity</th>\n",
       "    </tr>\n",
       "  </thead>\n",
       "  <tbody>\n",
       "    <tr>\n",
       "      <th>0</th>\n",
       "      <td>cust01</td>\n",
       "      <td>Chicago</td>\n",
       "      <td>M</td>\n",
       "      <td>electronics</td>\n",
       "      <td>1</td>\n",
       "    </tr>\n",
       "  </tbody>\n",
       "</table>\n",
       "</div>"
      ],
      "text/plain": [
       "  customer_id location gender         type  quantity\n",
       "0      cust01  Chicago      M  electronics         1"
      ]
     },
     "execution_count": 36,
     "metadata": {},
     "output_type": "execute_result"
    }
   ],
   "source": [
    "store_data[:1]"
   ]
  },
  {
   "cell_type": "code",
   "execution_count": 37,
   "id": "44ee48a8",
   "metadata": {},
   "outputs": [
    {
     "data": {
      "text/plain": [
       "0    Chicago\n",
       "1     Austin\n",
       "2    Seatlle\n",
       "3         LA\n",
       "Name: location, dtype: object"
      ]
     },
     "execution_count": 37,
     "metadata": {},
     "output_type": "execute_result"
    }
   ],
   "source": [
    "store_data[\"location\"]"
   ]
  },
  {
   "cell_type": "code",
   "execution_count": 38,
   "id": "fcf7e96a",
   "metadata": {},
   "outputs": [
    {
     "data": {
      "text/html": [
       "<div>\n",
       "<style scoped>\n",
       "    .dataframe tbody tr th:only-of-type {\n",
       "        vertical-align: middle;\n",
       "    }\n",
       "\n",
       "    .dataframe tbody tr th {\n",
       "        vertical-align: top;\n",
       "    }\n",
       "\n",
       "    .dataframe thead th {\n",
       "        text-align: right;\n",
       "    }\n",
       "</style>\n",
       "<table border=\"1\" class=\"dataframe\">\n",
       "  <thead>\n",
       "    <tr style=\"text-align: right;\">\n",
       "      <th></th>\n",
       "      <th>customer_id</th>\n",
       "      <th>location</th>\n",
       "      <th>gender</th>\n",
       "      <th>type</th>\n",
       "      <th>quantity</th>\n",
       "    </tr>\n",
       "  </thead>\n",
       "  <tbody>\n",
       "    <tr>\n",
       "      <th>0</th>\n",
       "      <td>cust01</td>\n",
       "      <td>Chicago</td>\n",
       "      <td>M</td>\n",
       "      <td>electronics</td>\n",
       "      <td>1</td>\n",
       "    </tr>\n",
       "    <tr>\n",
       "      <th>2</th>\n",
       "      <td>cust03</td>\n",
       "      <td>Seatlle</td>\n",
       "      <td>F</td>\n",
       "      <td>medicine</td>\n",
       "      <td>3</td>\n",
       "    </tr>\n",
       "  </tbody>\n",
       "</table>\n",
       "</div>"
      ],
      "text/plain": [
       "  customer_id location gender         type  quantity\n",
       "0      cust01  Chicago      M  electronics         1\n",
       "2      cust03  Seatlle      F     medicine         3"
      ]
     },
     "execution_count": 38,
     "metadata": {},
     "output_type": "execute_result"
    }
   ],
   "source": [
    "store_data[::2]"
   ]
  },
  {
   "cell_type": "code",
   "execution_count": 39,
   "id": "759b2e41",
   "metadata": {},
   "outputs": [
    {
     "data": {
      "text/html": [
       "<div>\n",
       "<style scoped>\n",
       "    .dataframe tbody tr th:only-of-type {\n",
       "        vertical-align: middle;\n",
       "    }\n",
       "\n",
       "    .dataframe tbody tr th {\n",
       "        vertical-align: top;\n",
       "    }\n",
       "\n",
       "    .dataframe thead th {\n",
       "        text-align: right;\n",
       "    }\n",
       "</style>\n",
       "<table border=\"1\" class=\"dataframe\">\n",
       "  <thead>\n",
       "    <tr style=\"text-align: right;\">\n",
       "      <th></th>\n",
       "      <th>customer_id</th>\n",
       "      <th>location</th>\n",
       "      <th>gender</th>\n",
       "      <th>type</th>\n",
       "      <th>quantity</th>\n",
       "    </tr>\n",
       "  </thead>\n",
       "  <tbody>\n",
       "    <tr>\n",
       "      <th>3</th>\n",
       "      <td>cust04</td>\n",
       "      <td>LA</td>\n",
       "      <td>F</td>\n",
       "      <td>beauty</td>\n",
       "      <td>4</td>\n",
       "    </tr>\n",
       "    <tr>\n",
       "      <th>2</th>\n",
       "      <td>cust03</td>\n",
       "      <td>Seatlle</td>\n",
       "      <td>F</td>\n",
       "      <td>medicine</td>\n",
       "      <td>3</td>\n",
       "    </tr>\n",
       "    <tr>\n",
       "      <th>1</th>\n",
       "      <td>cust02</td>\n",
       "      <td>Austin</td>\n",
       "      <td>M</td>\n",
       "      <td>groceries</td>\n",
       "      <td>2</td>\n",
       "    </tr>\n",
       "    <tr>\n",
       "      <th>0</th>\n",
       "      <td>cust01</td>\n",
       "      <td>Chicago</td>\n",
       "      <td>M</td>\n",
       "      <td>electronics</td>\n",
       "      <td>1</td>\n",
       "    </tr>\n",
       "  </tbody>\n",
       "</table>\n",
       "</div>"
      ],
      "text/plain": [
       "  customer_id location gender         type  quantity\n",
       "3      cust04       LA      F       beauty         4\n",
       "2      cust03  Seatlle      F     medicine         3\n",
       "1      cust02   Austin      M    groceries         2\n",
       "0      cust01  Chicago      M  electronics         1"
      ]
     },
     "execution_count": 39,
     "metadata": {},
     "output_type": "execute_result"
    }
   ],
   "source": [
    "store_data[::-1]"
   ]
  },
  {
   "cell_type": "code",
   "execution_count": 40,
   "id": "461c9598",
   "metadata": {},
   "outputs": [
    {
     "data": {
      "text/plain": [
       "customer_id       cust02\n",
       "location          Austin\n",
       "gender                 M\n",
       "type           groceries\n",
       "quantity               2\n",
       "Name: 1, dtype: object"
      ]
     },
     "execution_count": 40,
     "metadata": {},
     "output_type": "execute_result"
    }
   ],
   "source": [
    "store_data.loc[1]"
   ]
  },
  {
   "cell_type": "code",
   "execution_count": 41,
   "id": "812a28fc",
   "metadata": {},
   "outputs": [
    {
     "data": {
      "text/html": [
       "<div>\n",
       "<style scoped>\n",
       "    .dataframe tbody tr th:only-of-type {\n",
       "        vertical-align: middle;\n",
       "    }\n",
       "\n",
       "    .dataframe tbody tr th {\n",
       "        vertical-align: top;\n",
       "    }\n",
       "\n",
       "    .dataframe thead th {\n",
       "        text-align: right;\n",
       "    }\n",
       "</style>\n",
       "<table border=\"1\" class=\"dataframe\">\n",
       "  <thead>\n",
       "    <tr style=\"text-align: right;\">\n",
       "      <th></th>\n",
       "      <th>location</th>\n",
       "      <th>type</th>\n",
       "    </tr>\n",
       "  </thead>\n",
       "  <tbody>\n",
       "    <tr>\n",
       "      <th>1</th>\n",
       "      <td>Austin</td>\n",
       "      <td>groceries</td>\n",
       "    </tr>\n",
       "    <tr>\n",
       "      <th>3</th>\n",
       "      <td>LA</td>\n",
       "      <td>beauty</td>\n",
       "    </tr>\n",
       "  </tbody>\n",
       "</table>\n",
       "</div>"
      ],
      "text/plain": [
       "  location       type\n",
       "1   Austin  groceries\n",
       "3       LA     beauty"
      ]
     },
     "execution_count": 41,
     "metadata": {},
     "output_type": "execute_result"
    }
   ],
   "source": [
    "store_data.loc[[1,3],[\"location\", \"type\"]]"
   ]
  },
  {
   "cell_type": "code",
   "execution_count": 42,
   "id": "30b61d5e",
   "metadata": {},
   "outputs": [
    {
     "data": {
      "text/html": [
       "<div>\n",
       "<style scoped>\n",
       "    .dataframe tbody tr th:only-of-type {\n",
       "        vertical-align: middle;\n",
       "    }\n",
       "\n",
       "    .dataframe tbody tr th {\n",
       "        vertical-align: top;\n",
       "    }\n",
       "\n",
       "    .dataframe thead th {\n",
       "        text-align: right;\n",
       "    }\n",
       "</style>\n",
       "<table border=\"1\" class=\"dataframe\">\n",
       "  <thead>\n",
       "    <tr style=\"text-align: right;\">\n",
       "      <th></th>\n",
       "      <th>location</th>\n",
       "      <th>quantity</th>\n",
       "    </tr>\n",
       "  </thead>\n",
       "  <tbody>\n",
       "    <tr>\n",
       "      <th>1</th>\n",
       "      <td>Austin</td>\n",
       "      <td>2</td>\n",
       "    </tr>\n",
       "    <tr>\n",
       "      <th>3</th>\n",
       "      <td>LA</td>\n",
       "      <td>4</td>\n",
       "    </tr>\n",
       "  </tbody>\n",
       "</table>\n",
       "</div>"
      ],
      "text/plain": [
       "  location  quantity\n",
       "1   Austin         2\n",
       "3       LA         4"
      ]
     },
     "execution_count": 42,
     "metadata": {},
     "output_type": "execute_result"
    }
   ],
   "source": [
    "store_data.iloc[[1,3],[1, 4]]"
   ]
  },
  {
   "cell_type": "code",
   "execution_count": 43,
   "id": "9c72b77c",
   "metadata": {},
   "outputs": [
    {
     "data": {
      "text/html": [
       "<div>\n",
       "<style scoped>\n",
       "    .dataframe tbody tr th:only-of-type {\n",
       "        vertical-align: middle;\n",
       "    }\n",
       "\n",
       "    .dataframe tbody tr th {\n",
       "        vertical-align: top;\n",
       "    }\n",
       "\n",
       "    .dataframe thead th {\n",
       "        text-align: right;\n",
       "    }\n",
       "</style>\n",
       "<table border=\"1\" class=\"dataframe\">\n",
       "  <thead>\n",
       "    <tr style=\"text-align: right;\">\n",
       "      <th></th>\n",
       "      <th>customer_id</th>\n",
       "      <th>location</th>\n",
       "      <th>gender</th>\n",
       "      <th>type</th>\n",
       "      <th>quantity</th>\n",
       "      <th>(3, type)</th>\n",
       "    </tr>\n",
       "  </thead>\n",
       "  <tbody>\n",
       "    <tr>\n",
       "      <th>0</th>\n",
       "      <td>cust01</td>\n",
       "      <td>Chicago</td>\n",
       "      <td>M</td>\n",
       "      <td>electronics</td>\n",
       "      <td>1</td>\n",
       "      <td>Electronics</td>\n",
       "    </tr>\n",
       "    <tr>\n",
       "      <th>1</th>\n",
       "      <td>cust02</td>\n",
       "      <td>Austin</td>\n",
       "      <td>M</td>\n",
       "      <td>groceries</td>\n",
       "      <td>2</td>\n",
       "      <td>Electronics</td>\n",
       "    </tr>\n",
       "    <tr>\n",
       "      <th>2</th>\n",
       "      <td>cust03</td>\n",
       "      <td>Seatlle</td>\n",
       "      <td>F</td>\n",
       "      <td>medicine</td>\n",
       "      <td>3</td>\n",
       "      <td>Electronics</td>\n",
       "    </tr>\n",
       "    <tr>\n",
       "      <th>3</th>\n",
       "      <td>cust04</td>\n",
       "      <td>LA</td>\n",
       "      <td>F</td>\n",
       "      <td>beauty</td>\n",
       "      <td>4</td>\n",
       "      <td>Electronics</td>\n",
       "    </tr>\n",
       "  </tbody>\n",
       "</table>\n",
       "</div>"
      ],
      "text/plain": [
       "  customer_id location gender         type  quantity    (3, type)\n",
       "0      cust01  Chicago      M  electronics         1  Electronics\n",
       "1      cust02   Austin      M    groceries         2  Electronics\n",
       "2      cust03  Seatlle      F     medicine         3  Electronics\n",
       "3      cust04       LA      F       beauty         4  Electronics"
      ]
     },
     "execution_count": 43,
     "metadata": {},
     "output_type": "execute_result"
    }
   ],
   "source": [
    "store_data[3, \"type\"] = \"Electronics\"\n",
    "store_data"
   ]
  },
  {
   "cell_type": "code",
   "execution_count": null,
   "id": "84031021",
   "metadata": {},
   "outputs": [],
   "source": []
  },
  {
   "cell_type": "code",
   "execution_count": null,
   "id": "d1ada0a8",
   "metadata": {},
   "outputs": [],
   "source": []
  }
 ],
 "metadata": {
  "kernelspec": {
   "display_name": "Python 3 (ipykernel)",
   "language": "python",
   "name": "python3"
  },
  "language_info": {
   "codemirror_mode": {
    "name": "ipython",
    "version": 3
   },
   "file_extension": ".py",
   "mimetype": "text/x-python",
   "name": "python",
   "nbconvert_exporter": "python",
   "pygments_lexer": "ipython3",
   "version": "3.11.5"
  }
 },
 "nbformat": 4,
 "nbformat_minor": 5
}
